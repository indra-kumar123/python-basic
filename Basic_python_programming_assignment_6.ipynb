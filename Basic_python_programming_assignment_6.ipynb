{
  "nbformat": 4,
  "nbformat_minor": 0,
  "metadata": {
    "colab": {
      "name": "Basic python programming assignment 6.ipynb",
      "provenance": [],
      "authorship_tag": "ABX9TyOwMmtU9kAFAnflGlUaylAa",
      "include_colab_link": true
    },
    "kernelspec": {
      "name": "python3",
      "display_name": "Python 3"
    },
    "language_info": {
      "name": "python"
    }
  },
  "cells": [
    {
      "cell_type": "markdown",
      "metadata": {
        "id": "view-in-github",
        "colab_type": "text"
      },
      "source": [
        "<a href=\"https://colab.research.google.com/github/indra-kumar123/python-basic/blob/main/Basic_python_programming_assignment_6.ipynb\" target=\"_parent\"><img src=\"https://colab.research.google.com/assets/colab-badge.svg\" alt=\"Open In Colab\"/></a>"
      ]
    },
    {
      "cell_type": "code",
      "metadata": {
        "colab": {
          "base_uri": "https://localhost:8080/"
        },
        "id": "Ubyhl1FDKtMj",
        "outputId": "5cef0f72-2d16-4b15-bebb-c38f43c68038"
      },
      "source": [
        "#Python Program to Display Fibonacci Sequence Using Recursion\n",
        " \n",
        "def rec_fibo(n):\n",
        "  if n<=1:\n",
        "    return n\n",
        "  else:\n",
        "    return (rec_fibo(n-1) + rec_fibo(n-2))\n",
        " \n",
        "a= int(input(\"Enter number of terms : \"))\n",
        " \n",
        "if a<=0:\n",
        "  print(\"Enter a positive integer\")\n",
        "else:\n",
        "  print(\"Fib sequence\")\n",
        "  for i in range(a):\n",
        "    print(rec_fibo(i))"
      ],
      "execution_count": null,
      "outputs": [
        {
          "output_type": "stream",
          "text": [
            "Enter number of terms : 20\n",
            "Fib sequence\n",
            "0\n",
            "1\n",
            "1\n",
            "2\n",
            "3\n",
            "5\n",
            "8\n",
            "13\n",
            "21\n",
            "34\n",
            "55\n",
            "89\n",
            "144\n",
            "233\n",
            "377\n",
            "610\n",
            "987\n",
            "1597\n",
            "2584\n",
            "4181\n"
          ],
          "name": "stdout"
        }
      ]
    },
    {
      "cell_type": "code",
      "metadata": {
        "colab": {
          "base_uri": "https://localhost:8080/"
        },
        "id": "vGDGmqwbP74t",
        "outputId": "9bcef1ec-7286-4868-8c3f-ffc0fc721da4"
      },
      "source": [
        "#Python Program to Find Factorial of Number Using Recursion\n",
        "\n",
        "def factorial(x):\n",
        "  if x ==1:\n",
        "    return 1\n",
        "  else:\n",
        "    return (x*factorial(x-1))\n",
        "\n",
        "a=int(input(\"Enter a number :\"))\n",
        "if a<0:\n",
        "  print(\"Enter a positive number\")\n",
        "elif a==0:\n",
        "  print(\"Factorial of 0 is 1\")\n",
        "else:\n",
        "  print(\" The factorial of a is :\",factorial(a))\n"
      ],
      "execution_count": null,
      "outputs": [
        {
          "output_type": "stream",
          "text": [
            "Enter a number :0\n",
            "Factorial of 0 is 1\n"
          ],
          "name": "stdout"
        }
      ]
    },
    {
      "cell_type": "code",
      "metadata": {
        "colab": {
          "base_uri": "https://localhost:8080/"
        },
        "id": "IM9TqV62SF9W",
        "outputId": "4b37893e-07ba-4741-cb56-dcb0bc5ae78c"
      },
      "source": [
        "#Python Program to calculate your Body Mass Index\n",
        "def BMI(h,w):\n",
        "   bmi=(w/h**2)\n",
        "   return bmi\n",
        "\n",
        "h=float(input(\"Enter value of height in m :\"))\n",
        "w=float(input(\"Enter value of weight in kg :\"))\n",
        "\n",
        "bmi=BMI(h,w)\n",
        "print(\"The BMi is\",format(bmi))"
      ],
      "execution_count": null,
      "outputs": [
        {
          "output_type": "stream",
          "text": [
            "Enter value of height in m :1.79\n",
            "Enter value of weight in kg :100\n",
            "The BMi is 31.210012171904747\n"
          ],
          "name": "stdout"
        }
      ]
    },
    {
      "cell_type": "code",
      "metadata": {
        "colab": {
          "base_uri": "https://localhost:8080/"
        },
        "id": "mjHaWER-TxFI",
        "outputId": "f0dd3d45-bc3d-4acb-b6d8-899154f95609"
      },
      "source": [
        "#Python Program to calculate the natural logarithm of any number\n",
        "\n",
        "import math\n",
        "a=float(input(\"Enter a number :\"))\n",
        "\n",
        "if a<0:\n",
        "  print(\"please enter positive number\")\n",
        "\n",
        "else:\n",
        "  print(\"Natural log(a)\",format(math.log(a)))"
      ],
      "execution_count": null,
      "outputs": [
        {
          "output_type": "stream",
          "text": [
            "Enter a number :100\n",
            "Natural log(a) 4.605170185988092\n"
          ],
          "name": "stdout"
        }
      ]
    },
    {
      "cell_type": "code",
      "metadata": {
        "colab": {
          "base_uri": "https://localhost:8080/"
        },
        "id": "xbPY6OaqRIfo",
        "outputId": "53996396-9248-46ac-8f8b-2e042c1f8200"
      },
      "source": [
        "#Python Program for cube sum of first n natural numbers\n",
        "\n",
        "n=int(input(\"Enter a number n :\"))\n",
        "\n",
        "def cubic_sum_of_series(n):\n",
        "  sum=0\n",
        "  for i in range (1,n+1):\n",
        "      sum +=i**3\n",
        "\n",
        "  return sum\n",
        "print(\"cubic sum of series is:\",cubic_sum_of_series(n))"
      ],
      "execution_count": null,
      "outputs": [
        {
          "output_type": "stream",
          "text": [
            "Enter a number n :7\n",
            "cubic sum of series is: 784\n"
          ],
          "name": "stdout"
        }
      ]
    }
  ]
}