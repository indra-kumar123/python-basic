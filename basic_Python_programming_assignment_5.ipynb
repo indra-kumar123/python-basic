{
  "nbformat": 4,
  "nbformat_minor": 0,
  "metadata": {
    "colab": {
      "name": "basic Python programming assignment 5.ipynb",
      "provenance": [],
      "collapsed_sections": [],
      "authorship_tag": "ABX9TyM/sbtzlwCreiUmKJIILmjy",
      "include_colab_link": true
    },
    "kernelspec": {
      "name": "python3",
      "display_name": "Python 3"
    },
    "language_info": {
      "name": "python"
    }
  },
  "cells": [
    {
      "cell_type": "markdown",
      "metadata": {
        "id": "view-in-github",
        "colab_type": "text"
      },
      "source": [
        "<a href=\"https://colab.research.google.com/github/indra-kumar123/python-basic/blob/main/basic_Python_programming_assignment_5.ipynb\" target=\"_parent\"><img src=\"https://colab.research.google.com/assets/colab-badge.svg\" alt=\"Open In Colab\"/></a>"
      ]
    },
    {
      "cell_type": "code",
      "metadata": {
        "colab": {
          "base_uri": "https://localhost:8080/"
        },
        "id": "Z84GzZZBzjWG",
        "outputId": "cf2e243f-338d-4116-da9b-c52d33cca2c7"
      },
      "source": [
        "# Find LCM of 2 numbers\n",
        " \n",
        "a=int(input(\"Enter a number a :\"))\n",
        "b=int(input(\"Enter a number b :\"))\n",
        " \n",
        "def lcm(a,b):\n",
        "  if a > b:\n",
        "     g = a\n",
        "  else:\n",
        "     g = b\n",
        " \n",
        "  while(True):\n",
        "    if((g % a == 0) and (g % b == 0)):\n",
        "        lcm = g\n",
        "        break\n",
        "    g +=1\n",
        "  \n",
        "  return(lcm)\n",
        " \n",
        " \n",
        "print(\"The L.C.M. is\", lcm(a, b))"
      ],
      "execution_count": null,
      "outputs": [
        {
          "output_type": "stream",
          "text": [
            "Enter a number a :100\n",
            "Enter a number b :10\n",
            "The L.C.M. is 100\n"
          ],
          "name": "stdout"
        }
      ]
    },
    {
      "cell_type": "code",
      "metadata": {
        "colab": {
          "base_uri": "https://localhost:8080/"
        },
        "id": "h8iup8pN3tJ9",
        "outputId": "5616d70e-a56a-4195-97c2-8c27edf27c36"
      },
      "source": [
        "# HCF of 2 numbers\n",
        "\n",
        "\n",
        "a=int(input(\"Enter a number a :\"))\n",
        "b=int(input(\"Enter a number b :\"))\n",
        "\n",
        "def hcf(a,b):\n",
        "  if a > b :\n",
        "    s = b\n",
        "  else:\n",
        "    s = a\n",
        "  for i in range(1, s+1):\n",
        "    if((a%i ==0) and (b%i ==0)):\n",
        "        hcf= i\n",
        "  return hcf\n",
        "\n",
        "print(\"The HCF is\",hcf(a,b))     \n"
      ],
      "execution_count": null,
      "outputs": [
        {
          "output_type": "stream",
          "text": [
            "Enter a number a :1\n",
            "Enter a number b :2\n",
            "The HCF is 1\n"
          ],
          "name": "stdout"
        }
      ]
    },
    {
      "cell_type": "code",
      "metadata": {
        "colab": {
          "base_uri": "https://localhost:8080/"
        },
        "id": "HKIEMTCJ9HlP",
        "outputId": "13aa102e-ade7-4d04-faa4-a37e95bf7fdd"
      },
      "source": [
        "# Python Program to Convert Decimal to Binary, Octal and Hexadecimal\n",
        "\n",
        "a=int(input(\"Enter a number a to convert :\"))\n",
        "print(bin(a),\"in binary.\")\n",
        "print(oct(a),\"in octal.\")\n",
        "print(hex(a),\"in hexa.\")\n",
        " "
      ],
      "execution_count": null,
      "outputs": [
        {
          "output_type": "stream",
          "text": [
            "Enter a number a to convert :1\n",
            "0b1 in binary.\n",
            "0o1 in octal.\n",
            "0x1 in hexa.\n"
          ],
          "name": "stdout"
        }
      ]
    },
    {
      "cell_type": "code",
      "metadata": {
        "colab": {
          "base_uri": "https://localhost:8080/"
        },
        "id": "IwKXDcUW-p8d",
        "outputId": "2e17bc1d-ed40-4193-8bde-375c356b92d9"
      },
      "source": [
        "#Python Program To Find ASCII value of a character\n",
        "\n",
        "x = 'z'\n",
        "print(\"The ASCII value of '\" + x + \"' is\", ord(x))"
      ],
      "execution_count": null,
      "outputs": [
        {
          "output_type": "stream",
          "text": [
            "The ASCII value of 'z' is 122\n"
          ],
          "name": "stdout"
        }
      ]
    },
    {
      "cell_type": "code",
      "metadata": {
        "colab": {
          "base_uri": "https://localhost:8080/"
        },
        "id": "5U4abNfK_JI1",
        "outputId": "c80481a9-e62e-47cc-9c8c-ded29d8d1fdd"
      },
      "source": [
        "#Python Program to Make a Simple Calculator with 4 basic mathematical operations\n",
        "\n",
        "def add(a,b):\n",
        "  return a+b\n",
        "def substract(a,b):\n",
        "  return a-b\n",
        "def multiply(a,b):\n",
        "  return a*b\n",
        "def divide(a,b):\n",
        "  return a/b\n",
        "\n",
        "print(\"select opertion :\")\n",
        "print(\"1.add\")\n",
        "print(\"2.substract\")\n",
        "print(\"3.multiply\")\n",
        "print(\"4.divide\")\n",
        "\n",
        "while True:\n",
        "  choice = input(\"Enter choice(1/2/3/4):\")\n",
        "\n",
        "  if choice in ('1','2','3','4'):\n",
        "    x=float(input(\"Enter number 1 :\"))\n",
        "    y=float(input(\"Enter number 2 :\"))\n",
        "\n",
        "    if choice =='1':\n",
        "      print(add(x,y))\n",
        "    \n",
        "    elif choice =='2':\n",
        "      print(substract(x,y))\n",
        "    elif choice =='3':\n",
        "      print(multiply(x,y))\n",
        "    elif choice =='4':\n",
        "      print(divide(x,y))\n",
        "    break\n",
        "  else:\n",
        "    print(\"invalid input\")\n",
        "\n",
        "\n"
      ],
      "execution_count": null,
      "outputs": [
        {
          "output_type": "stream",
          "text": [
            "select opertion :\n",
            "1.add\n",
            "2.substract\n",
            "3.multiply\n",
            "4.divide\n",
            "Enter choice(1/2/3/4):4\n",
            "Enter number 1 :7848336647863\n",
            "Enter number 2 :12894781685296\n",
            "0.6086443989053733\n"
          ],
          "name": "stdout"
        }
      ]
    }
  ]
}