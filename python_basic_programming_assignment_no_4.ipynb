{
  "nbformat": 4,
  "nbformat_minor": 0,
  "metadata": {
    "colab": {
      "name": "python basic programming assignment no 4.ipynb",
      "provenance": [],
      "collapsed_sections": [],
      "authorship_tag": "ABX9TyNLrxcAtOgARIt1kzOjPSuG",
      "include_colab_link": true
    },
    "kernelspec": {
      "name": "python3",
      "display_name": "Python 3"
    },
    "language_info": {
      "name": "python"
    }
  },
  "cells": [
    {
      "cell_type": "markdown",
      "metadata": {
        "id": "view-in-github",
        "colab_type": "text"
      },
      "source": [
        "<a href=\"https://colab.research.google.com/github/indra-kumar123/python-basic/blob/main/python_basic_programming_assignment_no_4.ipynb\" target=\"_parent\"><img src=\"https://colab.research.google.com/assets/colab-badge.svg\" alt=\"Open In Colab\"/></a>"
      ]
    },
    {
      "cell_type": "code",
      "metadata": {
        "colab": {
          "base_uri": "https://localhost:8080/"
        },
        "id": "uznc3_CDJDOc",
        "outputId": "40440f8a-968b-4ff2-8d22-1e2de98dc876"
      },
      "source": [
        "#Python programme to find factorial of a number\n",
        " \n",
        "a=int(input(\"Enter a number :\"))\n",
        "f=1\n",
        "for i in range(1,a+1):\n",
        "  f=f*i\n",
        "print(\"The factorial of\", a, \"is\", f)"
      ],
      "execution_count": null,
      "outputs": [
        {
          "output_type": "stream",
          "text": [
            "Enter a number :20\n",
            "The factorial of 20 is 2432902008176640000\n"
          ],
          "name": "stdout"
        }
      ]
    },
    {
      "cell_type": "code",
      "metadata": {
        "colab": {
          "base_uri": "https://localhost:8080/"
        },
        "id": "G3B0rjYBNAQP",
        "outputId": "b8aa6d7b-51b0-47a9-8efa-8fe71a3f0799"
      },
      "source": [
        "#Python programme to display multiplication table\n",
        "num = int(input(\"Enter a number :\"))\n",
        "\n",
        "for i in range(1,11):\n",
        "  print(num, \"X\", i, \"=\", num*i)"
      ],
      "execution_count": null,
      "outputs": [
        {
          "output_type": "stream",
          "text": [
            "Enter a number :2\n",
            "2 X 1 = 2\n",
            "2 X 2 = 4\n",
            "2 X 3 = 6\n",
            "2 X 4 = 8\n",
            "2 X 5 = 10\n",
            "2 X 6 = 12\n",
            "2 X 7 = 14\n",
            "2 X 8 = 16\n",
            "2 X 9 = 18\n",
            "2 X 10 = 20\n"
          ],
          "name": "stdout"
        }
      ]
    },
    {
      "cell_type": "code",
      "metadata": {
        "colab": {
          "base_uri": "https://localhost:8080/"
        },
        "id": "4BD_DCiUOwx6",
        "outputId": "d98a6b07-eafe-4afa-875b-97f026f36107"
      },
      "source": [
        "#Python programme for fibonacci sequence\n",
        "\n",
        "def genfib(n):\n",
        "    a=1\n",
        "    b=1\n",
        "    output=[]\n",
        "    for i in range(n):\n",
        "        output.append(a)\n",
        "        a,b=b,a+b\n",
        "    return output\n",
        "genfib(10)"
      ],
      "execution_count": null,
      "outputs": [
        {
          "output_type": "execute_result",
          "data": {
            "text/plain": [
              "[1, 1, 2, 3, 5, 8, 13, 21, 34, 55]"
            ]
          },
          "metadata": {
            "tags": []
          },
          "execution_count": 32
        }
      ]
    },
    {
      "cell_type": "code",
      "metadata": {
        "colab": {
          "base_uri": "https://localhost:8080/"
        },
        "id": "BmUhwqnhQVTl",
        "outputId": "2160e5b4-b47b-4ada-a78a-61bcbdec98db"
      },
      "source": [
        "#Python programme to check armstrong number\n",
        "\n",
        "a = int(input(\"Enter a number: \"))\n",
        "\n",
        "sum = 0\n",
        "\n",
        "b = a\n",
        "while b > 0:\n",
        "   digit = b % 10\n",
        "   sum += digit ** 3\n",
        "   b //= 10\n",
        "if a == sum:\n",
        "   print(a,\"is an Armstrong number\")\n",
        "else:\n",
        "   print(a,\"is not an Armstrong number\")\n"
      ],
      "execution_count": null,
      "outputs": [
        {
          "output_type": "stream",
          "text": [
            "Enter a number: 123\n",
            "123 is not an Armstrong number\n"
          ],
          "name": "stdout"
        }
      ]
    },
    {
      "cell_type": "code",
      "metadata": {
        "colab": {
          "base_uri": "https://localhost:8080/"
        },
        "id": "wmgKTyFQVjJX",
        "outputId": "56fb0c6a-f80e-48eb-f8a1-508d5facc334"
      },
      "source": [
        "#Python programme to find armstrong number in an interval\n",
        "x=1\n",
        "y=10000\n",
        "\n",
        "for a in range(x,y+1):\n",
        "  order=len(str(a))\n",
        "\n",
        "  sum = 0\n",
        "\n",
        "  b = a\n",
        "  while b > 0:\n",
        "     digit = b % 10\n",
        "     sum += digit ** order\n",
        "     b //= 10\n",
        "  if a == sum:\n",
        "     print(a)\n"
      ],
      "execution_count": null,
      "outputs": [
        {
          "output_type": "stream",
          "text": [
            "1\n",
            "2\n",
            "3\n",
            "4\n",
            "5\n",
            "6\n",
            "7\n",
            "8\n",
            "9\n",
            "153\n",
            "370\n",
            "371\n",
            "407\n",
            "1634\n",
            "8208\n",
            "9474\n"
          ],
          "name": "stdout"
        }
      ]
    },
    {
      "cell_type": "code",
      "metadata": {
        "colab": {
          "base_uri": "https://localhost:8080/"
        },
        "id": "TTjX4jVsXPwq",
        "outputId": "b2bb4386-2ab4-4453-cb00-63709068d7ee"
      },
      "source": [
        "#Python programme to find sum of natural numbers\n",
        "num=int(input(\"Enter a number:\"))\n",
        "a=(num*(num+1)/2)\n",
        "print(\"Sum of natural number between 1 and\",num, \"is {}\" .format(a))"
      ],
      "execution_count": null,
      "outputs": [
        {
          "output_type": "stream",
          "text": [
            "Enter a number:100\n",
            "Sum of natural number between 1 and 100 is 5050.0\n"
          ],
          "name": "stdout"
        }
      ]
    },
    {
      "cell_type": "code",
      "metadata": {
        "id": "2MwgL5lvYI7M"
      },
      "source": [
        ""
      ],
      "execution_count": null,
      "outputs": []
    }
  ]
}