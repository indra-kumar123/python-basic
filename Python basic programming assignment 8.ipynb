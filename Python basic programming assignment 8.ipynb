{
 "cells": [
  {
   "cell_type": "code",
   "execution_count": 9,
   "id": "995d466a",
   "metadata": {},
   "outputs": [
    {
     "name": "stdout",
     "output_type": "stream",
     "text": [
      "[41, 26, 21]\n",
      "[84, 66, 58]\n",
      "[42, 63, 61]\n"
     ]
    }
   ],
   "source": [
    "# Programme to multiply two Matrixes.\n",
    "A = [[1,2,4],\n",
    "     [5,6,7],\n",
    "     [8,9,1]]\n",
    "B= [[3,4,5],\n",
    "   [1,3,2],\n",
    "   [9,4,3]]\n",
    "\n",
    "R = [[0,0,0],\n",
    "    [0,0,0],\n",
    "    [0,0,0]]\n",
    "\n",
    "for i in range(len(A)):\n",
    "    for j in range(len(B[0])):\n",
    "        for k in range(len(B)):\n",
    "            R[i][j]+= A[i][k] * B[k][j]\n",
    "for r in R:\n",
    "    print(r)\n",
    "    "
   ]
  },
  {
   "cell_type": "code",
   "execution_count": 29,
   "id": "d51298f0",
   "metadata": {},
   "outputs": [
    {
     "name": "stdout",
     "output_type": "stream",
     "text": [
      "[4, 6, 9]\n",
      "[6, 9, 9]\n",
      "[17, 13, 4]\n"
     ]
    }
   ],
   "source": [
    "# Programme to add two Matrixes.\n",
    "A = [[1,2,4],\n",
    "     [5,6,7],\n",
    "     [8,9,1]]\n",
    "B= [[3,4,5],\n",
    "   [1,3,2],\n",
    "   [9,4,3]]\n",
    "\n",
    "R = [[0,0,0],\n",
    "    [0,0,0],\n",
    "    [0,0,0]]\n",
    "\n",
    "for i in range(len(A)):\n",
    "    for j in range(len(B[0])):\n",
    "         R[i][j] = A[i][j] + B[i][j]\n",
    "for r in R:\n",
    "    print(r)"
   ]
  },
  {
   "cell_type": "code",
   "execution_count": 20,
   "id": "40a1e19d",
   "metadata": {},
   "outputs": [
    {
     "name": "stdout",
     "output_type": "stream",
     "text": [
      "[[1 5 8]\n",
      " [2 6 9]\n",
      " [4 7 1]]\n"
     ]
    }
   ],
   "source": [
    "#Python Program to Transpose a Matrix\n",
    "import numpy as np\n",
    "matrix =np.array([[1,2,4],[5,6,7],[8,9,1]])\n",
    "print(matrix.T)\n",
    "\n"
   ]
  },
  {
   "cell_type": "code",
   "execution_count": 25,
   "id": "24d52e4d",
   "metadata": {},
   "outputs": [
    {
     "name": "stdout",
     "output_type": "stream",
     "text": [
      "Enter a string in lower case letters : enter a string in lower case letters\n",
      "a\n",
      "case\n",
      "enter\n",
      "in\n",
      "letters\n",
      "lower\n",
      "string\n"
     ]
    }
   ],
   "source": [
    "#Python Program to Sort Words in Alphabetic Order\n",
    "\n",
    "str =input(\"Enter a string in lower case letters : \")\n",
    "s= str.split()\n",
    "s.sort()\n",
    "for w in s:\n",
    "    print(w)\n",
    "\n"
   ]
  },
  {
   "cell_type": "code",
   "execution_count": 28,
   "id": "90af3b29",
   "metadata": {},
   "outputs": [
    {
     "name": "stdout",
     "output_type": "stream",
     "text": [
      " Hi How r you\n"
     ]
    }
   ],
   "source": [
    "#Python Program to Remove Punctuation From a String\n",
    "\n",
    "def_punctuation = \"$^&*=+?!_-.\"\n",
    "string = \"Hi!... How r you.\"\n",
    "\n",
    "without_punctuation = \" \"\n",
    "for i in string:\n",
    "    if i not in def_punctuation:\n",
    "        without_punctuation =  without_punctuation + i\n",
    "        \n",
    "print( without_punctuation )\n",
    "\n",
    " "
   ]
  },
  {
   "cell_type": "code",
   "execution_count": null,
   "id": "31fbec56",
   "metadata": {},
   "outputs": [],
   "source": []
  }
 ],
 "metadata": {
  "kernelspec": {
   "display_name": "Python 3",
   "language": "python",
   "name": "python3"
  },
  "language_info": {
   "codemirror_mode": {
    "name": "ipython",
    "version": 3
   },
   "file_extension": ".py",
   "mimetype": "text/x-python",
   "name": "python",
   "nbconvert_exporter": "python",
   "pygments_lexer": "ipython3",
   "version": "3.8.8"
  }
 },
 "nbformat": 4,
 "nbformat_minor": 5
}
