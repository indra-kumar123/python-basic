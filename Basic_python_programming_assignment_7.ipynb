{
  "nbformat": 4,
  "nbformat_minor": 0,
  "metadata": {
    "colab": {
      "name": "Basic python programming assignment 7.ipynb",
      "provenance": [],
      "collapsed_sections": [],
      "authorship_tag": "ABX9TyM1wDrpRJKrZXl/TyG5GUVC",
      "include_colab_link": true
    },
    "kernelspec": {
      "name": "python3",
      "display_name": "Python 3"
    },
    "language_info": {
      "name": "python"
    }
  },
  "cells": [
    {
      "cell_type": "markdown",
      "metadata": {
        "id": "view-in-github",
        "colab_type": "text"
      },
      "source": [
        "<a href=\"https://colab.research.google.com/github/indra-kumar123/python-basic/blob/main/Basic_python_programming_assignment_7.ipynb\" target=\"_parent\"><img src=\"https://colab.research.google.com/assets/colab-badge.svg\" alt=\"Open In Colab\"/></a>"
      ]
    },
    {
      "cell_type": "code",
      "metadata": {
        "colab": {
          "base_uri": "https://localhost:8080/"
        },
        "id": "enKnCFckaHqO",
        "outputId": "8012c449-556d-4794-f446-f862dab157b4"
      },
      "source": [
        " #Python Program to find sum of array\n",
        " \n",
        "arr=[12,34,45,90,100,45,67,32,23,13,23]\n",
        " \n",
        "def sum(arr):\n",
        "  sum=0\n",
        "  for i in arr:\n",
        "    sum=sum+i\n",
        "  return sum\n",
        " \n",
        "print(\"sum of array is :\", sum(arr))"
      ],
      "execution_count": null,
      "outputs": [
        {
          "output_type": "stream",
          "text": [
            "sum of array is : 484\n"
          ],
          "name": "stdout"
        }
      ]
    },
    {
      "cell_type": "code",
      "metadata": {
        "colab": {
          "base_uri": "https://localhost:8080/"
        },
        "id": "Y6IWUnWFbdhT",
        "outputId": "a58c22c9-e257-4117-a8ee-9cac0ec5386a"
      },
      "source": [
        "# Python Program to find largest element in an array\n",
        "\n",
        "arr=[1,211,30,4]\n",
        "\n",
        "def largest(arr,n):\n",
        "  return(max(arr))\n",
        "\n",
        "n=len(arr)\n",
        "print(\"largest number in array is : \",largest(arr,n))\n",
        "    \n",
        "\n",
        "\n",
        "\n",
        "\n",
        "\n"
      ],
      "execution_count": null,
      "outputs": [
        {
          "output_type": "stream",
          "text": [
            "largest number in array is :  211\n"
          ],
          "name": "stdout"
        }
      ]
    },
    {
      "cell_type": "code",
      "metadata": {
        "colab": {
          "base_uri": "https://localhost:8080/"
        },
        "id": "YC2qKFCag9wn",
        "outputId": "0e926692-aee0-4a74-fa1e-12f3801e4ea1"
      },
      "source": [
        "#Python Program for array rotation\n",
        "#n is length of array\n",
        "#d is rotate array by d elements assuming d=2 here\n",
        "#t is temporary array\n",
        "def rot_array(arr,n,d):\n",
        "  t=[]\n",
        "  i=0\n",
        "  while (i < d):\n",
        "    t.append(arr[i])\n",
        "    i +=1\n",
        "  \n",
        "  i=0\n",
        "  while (d<n):\n",
        "    arr[i]=arr[d]\n",
        "    i +=1\n",
        "    d +=1\n",
        "  arr[:]=arr[:i]+ t\n",
        "  return arr\n",
        "\n",
        "arr = [1,2,3,4,5,6,7,8,9,10]\n",
        "n=len(arr) \n",
        "print(\"Array after rotation is : \", rot_array(arr,n,2))"
      ],
      "execution_count": null,
      "outputs": [
        {
          "output_type": "stream",
          "text": [
            "Array after rotation is :  [3, 4, 5, 6, 7, 8, 9, 10, 1, 2]\n"
          ],
          "name": "stdout"
        }
      ]
    },
    {
      "cell_type": "code",
      "metadata": {
        "id": "nWlHLBgPrWj3",
        "colab": {
          "base_uri": "https://localhost:8080/"
        },
        "outputId": "92c608f3-79ef-44c9-8b0d-eeaf71e3e50a"
      },
      "source": [
        "#Python Program to Split the array and add the first part to the end\n",
        "\n",
        "def split_array(arr,n,d):\n",
        "  b=arr[:d]\n",
        "  return (arr[d:]+b[:])\n",
        "\n",
        "arr=[1,2,3,4,5,6,7,8,9]\n",
        "n=len(arr)\n",
        "d=2\n",
        "array=split_array(arr,n,d)\n",
        "for i in range(0,n):\n",
        "     print(array[i], end= '  ')"
      ],
      "execution_count": null,
      "outputs": [
        {
          "output_type": "stream",
          "text": [
            "3  4  5  6  7  8  9  1  2  "
          ],
          "name": "stdout"
        }
      ]
    },
    {
      "cell_type": "code",
      "metadata": {
        "colab": {
          "base_uri": "https://localhost:8080/"
        },
        "id": "yEBHBal1P5Vz",
        "outputId": "6ad9b780-5793-441a-d5b0-7c203a110428"
      },
      "source": [
        "#Python Program to check if given array is Monotonic\n",
        "\n",
        "def monotonic_array(A):\n",
        "  return (all(A[i]<=A[i+1] for i in range(len(A)-1)) or all(A[i]>=A[i+1] for i in range(len(A)-1)))\n",
        "\n",
        "A= [1,3,2,4,3]\n",
        "print(monotonic_array(A))"
      ],
      "execution_count": null,
      "outputs": [
        {
          "output_type": "stream",
          "text": [
            "False\n"
          ],
          "name": "stdout"
        }
      ]
    }
  ]
}