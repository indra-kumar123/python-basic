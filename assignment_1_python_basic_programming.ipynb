{
  "nbformat": 4,
  "nbformat_minor": 0,
  "metadata": {
    "colab": {
      "name": "assignment 1 python basic programming.ipynb",
      "provenance": [],
      "collapsed_sections": [],
      "authorship_tag": "ABX9TyM8IoH2XrXctVraRoJezlHR",
      "include_colab_link": true
    },
    "kernelspec": {
      "name": "python3",
      "display_name": "Python 3"
    },
    "language_info": {
      "name": "python"
    }
  },
  "cells": [
    {
      "cell_type": "markdown",
      "metadata": {
        "id": "view-in-github",
        "colab_type": "text"
      },
      "source": [
        "<a href=\"https://colab.research.google.com/github/indra-kumar123/python-basic/blob/main/assignment_1_python_basic_programming.ipynb\" target=\"_parent\"><img src=\"https://colab.research.google.com/assets/colab-badge.svg\" alt=\"Open In Colab\"/></a>"
      ]
    },
    {
      "cell_type": "code",
      "metadata": {
        "colab": {
          "base_uri": "https://localhost:8080/"
        },
        "id": "W4qpNyQMPYeS",
        "outputId": "26575894-1533-4284-f391-a91785a73abc"
      },
      "source": [
        "#Python programme to print hello python\n",
        " \n",
        "p =\"Hello python\"\n",
        "print(p)"
      ],
      "execution_count": null,
      "outputs": [
        {
          "output_type": "stream",
          "text": [
            "Hello python\n"
          ],
          "name": "stdout"
        }
      ]
    },
    {
      "cell_type": "code",
      "metadata": {
        "colab": {
          "base_uri": "https://localhost:8080/"
        },
        "id": "nTMxZjGbQWN3",
        "outputId": "4c242ee0-fe1d-49ac-d82f-b1d1c66b3985"
      },
      "source": [
        "#Python programme to do arithmatical operation addition & division\n",
        " \n",
        "a=int(input(\"Enter a number a :\"))\n",
        "b= int(input(\"Enter a number b :\"))\n",
        "add = (a+b)\n",
        "div = (a/b)\n",
        "print(\"The addition of a and b is {}\".format(add))\n",
        "print(\"The division of a and b is {}\".format(div))"
      ],
      "execution_count": null,
      "outputs": [
        {
          "output_type": "stream",
          "text": [
            "Enter a number a :10\n",
            "Enter a number b :20\n",
            "The addition of a and b is 30\n",
            "The division of a and b is 0.5\n"
          ],
          "name": "stdout"
        }
      ]
    },
    {
      "cell_type": "code",
      "metadata": {
        "id": "TZ7xA7YocXtn"
      },
      "source": [
        ""
      ],
      "execution_count": null,
      "outputs": []
    },
    {
      "cell_type": "code",
      "metadata": {
        "colab": {
          "base_uri": "https://localhost:8080/"
        },
        "id": "oPGlHNTxRrD4",
        "outputId": "9f1da430-a9d5-4690-9867-5f9553c2ad2f"
      },
      "source": [
        "#Python programme to find the area of a triangle\n",
        "\n",
        "h =int(input(\"Enter the height of triangle in m : \"))\n",
        "b =int(input(\"Enter the base of triangle in m :\"))\n",
        "area_of_triangle=(1/2)*h*b\n",
        "print(\"area of triangle is {} square meter\".format(area_of_triangle))"
      ],
      "execution_count": null,
      "outputs": [
        {
          "output_type": "stream",
          "text": [
            "Enter the height of triangle in m : 12\n",
            "Enter the base of triangle in m :24\n",
            "area of triangle is 144.0 square meter\n"
          ],
          "name": "stdout"
        }
      ]
    },
    {
      "cell_type": "code",
      "metadata": {
        "colab": {
          "base_uri": "https://localhost:8080/"
        },
        "id": "cg6LESFrTcFg",
        "outputId": "30816767-43f8-427d-a488-b246618c292b"
      },
      "source": [
        "#Python programme to swap two variables\n",
        "\n",
        "a=int(input(\"Enter number a :\"))\n",
        "b=int(input(\"Enter number b :\"))\n",
        "#defining t as temporary number for swapping\n",
        "t=a\n",
        "a=b\n",
        "b=t\n",
        "print(\"Value of a after swapping is {}\".format(a))\n",
        "print(\"Value of b after swapping is {}\".format(b))"
      ],
      "execution_count": null,
      "outputs": [
        {
          "output_type": "stream",
          "text": [
            "Enter number a :1\n",
            "Enter number b :2\n",
            "Value of a after swapping is 2\n",
            "Value of b after swapping is 1\n"
          ],
          "name": "stdout"
        }
      ]
    },
    {
      "cell_type": "code",
      "metadata": {
        "colab": {
          "base_uri": "https://localhost:8080/"
        },
        "id": "2r7iSXLUVd1j",
        "outputId": "fa396b77-b7db-44d4-9b75-538372e043e6"
      },
      "source": [
        "#Python programme to generate a random number\n",
        "\n",
        "a= random.randint(0,100)\n",
        "print(\"The random number is {}\".format(a))"
      ],
      "execution_count": null,
      "outputs": [
        {
          "output_type": "stream",
          "text": [
            "The random number is 48\n"
          ],
          "name": "stdout"
        }
      ]
    }
  ]
}