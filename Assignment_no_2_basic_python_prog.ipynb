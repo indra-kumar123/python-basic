{
  "nbformat": 4,
  "nbformat_minor": 0,
  "metadata": {
    "colab": {
      "name": "Assignment no 2 basic python prog.ipynb",
      "provenance": [],
      "collapsed_sections": [],
      "authorship_tag": "ABX9TyPJ2Ecx5LzSNyGovq7RSJMd",
      "include_colab_link": true
    },
    "kernelspec": {
      "name": "python3",
      "display_name": "Python 3"
    },
    "language_info": {
      "name": "python"
    }
  },
  "cells": [
    {
      "cell_type": "markdown",
      "metadata": {
        "id": "view-in-github",
        "colab_type": "text"
      },
      "source": [
        "<a href=\"https://colab.research.google.com/github/indra-kumar123/python-basic/blob/main/Assignment_no_2_basic_python_prog.ipynb\" target=\"_parent\"><img src=\"https://colab.research.google.com/assets/colab-badge.svg\" alt=\"Open In Colab\"/></a>"
      ]
    },
    {
      "cell_type": "code",
      "metadata": {
        "colab": {
          "base_uri": "https://localhost:8080/"
        },
        "id": "2mXyKH2Q3ntv",
        "outputId": "fa3c0745-39b8-4f48-dc64-28ff741ecea8"
      },
      "source": [
        "#python programme to convert KM to Miles\n",
        " \n",
        "km= int(input(\"Enter kilometer :\"))\n",
        "miles = km*(0.621371)\n",
        "print(\"Miles in {} km is {}\".format(km,miles))"
      ],
      "execution_count": null,
      "outputs": [
        {
          "output_type": "stream",
          "text": [
            "Enter kilometer :23\n",
            "Miles in 23 km is 14.291533\n"
          ],
          "name": "stdout"
        }
      ]
    },
    {
      "cell_type": "code",
      "metadata": {
        "colab": {
          "base_uri": "https://localhost:8080/"
        },
        "id": "NjAzrq5f6gHa",
        "outputId": "c8ffb4a4-5bad-4cbf-f516-107f1d18276a"
      },
      "source": [
        "#python programme to convert C to F\n",
        "deg_C = int(input(\"Enter deg C value :\"))\n",
        "deg_F = (deg_C * (9/5) + 32)\n",
        "print(\"deg F is {}\".format(deg_F))\n"
      ],
      "execution_count": null,
      "outputs": [
        {
          "output_type": "stream",
          "text": [
            "Enter deg C value :0\n",
            "deg F is 32.0\n"
          ],
          "name": "stdout"
        }
      ]
    },
    {
      "cell_type": "code",
      "metadata": {
        "colab": {
          "base_uri": "https://localhost:8080/"
        },
        "id": "I8wWzNTR7bkM",
        "outputId": "76f38048-1853-482f-ea68-e258da130406"
      },
      "source": [
        "#python programme to display clander\n",
        " \n",
        "import calendar\n",
        " \n",
        "year=int(input(\"Enter year :\"))\n",
        "month=int(input(\"Enter month :\"))\n",
        "print(calendar.month(year,month))"
      ],
      "execution_count": null,
      "outputs": [
        {
          "output_type": "stream",
          "text": [
            "Enter year :2021\n",
            "Enter month :12\n",
            "   December 2021\n",
            "Mo Tu We Th Fr Sa Su\n",
            "       1  2  3  4  5\n",
            " 6  7  8  9 10 11 12\n",
            "13 14 15 16 17 18 19\n",
            "20 21 22 23 24 25 26\n",
            "27 28 29 30 31\n",
            "\n"
          ],
          "name": "stdout"
        }
      ]
    },
    {
      "cell_type": "code",
      "metadata": {
        "id": "LsVF6DdmFP4g"
      },
      "source": [
        ""
      ],
      "execution_count": null,
      "outputs": []
    },
    {
      "cell_type": "code",
      "metadata": {
        "colab": {
          "base_uri": "https://localhost:8080/"
        },
        "id": "1MV8w30j9zwR",
        "outputId": "04667d6b-984b-48da-ca9e-80345e97683c"
      },
      "source": [
        "#python programme to solve quadratic equation\n",
        "# quad equation ax2+bx+c\n",
        "\n",
        "import cmath\n",
        "a=int(input(\"Enter value of a :\"))\n",
        "b=int(input(\"Enter value of b :\"))\n",
        "c=int(input(\"Enter value of c :\"))\n",
        "\n",
        "d = ((b**2)-4*a*c) #discriminant\n",
        "\n",
        "s1= (-b + cmath.sqrt(d))/2*a\n",
        "s2= (-b - cmath.sqrt(d))/2*a\n",
        "\n",
        "print(\"the solution of quadratic equation is {} & {}\".format(s1,s2))"
      ],
      "execution_count": null,
      "outputs": [
        {
          "output_type": "stream",
          "text": [
            "Enter value of a :2\n",
            "Enter value of b :3\n",
            "Enter value of c :4\n",
            "the solution of quadratic equation is (-3+4.795831523312719j) & (-3-4.795831523312719j)\n"
          ],
          "name": "stdout"
        }
      ]
    },
    {
      "cell_type": "code",
      "metadata": {
        "colab": {
          "base_uri": "https://localhost:8080/"
        },
        "id": "E_YGfsrDCSc5",
        "outputId": "b5c244e6-139e-47a3-e83f-d7a75ea5fa24"
      },
      "source": [
        "# python programme to swap variables without temp\n",
        "\n",
        "a=int(input(\"enter a :\"))\n",
        "b=int(input(\"enter b :\"))\n",
        "print(\"value of a is {} & b is {}\".format(a,b))\n",
        "a,b == b,a\n",
        "print(\"value of a is {} & b is {}\".format(b,a))\n",
        "\n"
      ],
      "execution_count": null,
      "outputs": [
        {
          "output_type": "stream",
          "text": [
            "enter a :1\n",
            "enter b :2\n",
            "value of a is 1 & b is 2\n",
            "value of a is 2 & b is 1\n"
          ],
          "name": "stdout"
        }
      ]
    }
  ]
}